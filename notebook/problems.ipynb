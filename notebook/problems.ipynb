{
 "cells": [
  {
   "cell_type": "markdown",
   "id": "d9d036c6",
   "metadata": {},
   "source": [
    "# Hypothesis testing problems"
   ]
  },
  {
   "cell_type": "markdown",
   "id": "d157c4db",
   "metadata": {},
   "source": [
    "## Exercise 1\n",
    "\n",
    "You are a nutritionist researching two different types of diets to see if there is a significant difference in weight loss after one month. You choose two random groups of people; one group follows the first diet, and the other follows the second. At the end of the month, you record the weight loss (in kg) for each person:\n",
    "\n",
    "| Diet 1 | Diet 2 |\n",
    "|:-------|:-------|\n",
    "| 2.0 | 3.0 |\n",
    "| 2.5 | 3.2 |\n",
    "| 3.0 | 3.1 |\n",
    "| 2.8 | 2.9 |\n",
    "| 2.3 | 2.8 |\n",
    "| 2.7 | 3.0 |\n",
    "| 2.5 | 3.2 |\n",
    "\n",
    "With these data, it seeks to answer the following question: Is there a significant difference in average weight loss between people who followed the first diet and those who followed the second diet?\n",
    "\n",
    "To draw conclusions, follow the points below:\n",
    "\n",
    "- State the hypothesis: null and alternative hypothesis.\n",
    "- Perform the test to test the hypothesis. You can use a Student's t-test.\n",
    "- Analyze the conclusions."
   ]
  },
  {
   "cell_type": "markdown",
   "id": "a590c549",
   "metadata": {},
   "source": [
    "## 1.) State the hypothesis\n",
    "\n",
    "- **Null hypothesis** ($H₀$): There is no difference between Diet 1 and Diet 2\n",
    "\n",
    "- **Alternative hypothesis** ($H₁$): There is a difference between Diet 1 and Diet 2 "
   ]
  },
  {
   "cell_type": "markdown",
   "id": "1deb448e",
   "metadata": {},
   "source": [
    "## 2.) Test the hypothesis"
   ]
  },
  {
   "cell_type": "code",
   "execution_count": 1,
   "id": "8e0f3cf0",
   "metadata": {},
   "outputs": [
    {
     "name": "stdout",
     "output_type": "stream",
     "text": [
      "T-value: -3.538\n",
      "P-value:  0.004\n"
     ]
    }
   ],
   "source": [
    "from scipy import stats\n",
    "\n",
    "diet1=[2.0, 2.5, 3.0, 2.8, 2.3, 2.7, 2.5]\n",
    "diet2=[3.0, 3.2, 3.1, 2.9, 2.8, 3.0, 3.2]\n",
    "\n",
    "t_value, p_value = stats.ttest_ind(diet1, diet2)\n",
    "\n",
    "print(f\"T-value: {t_value: .3f}\")\n",
    "print(f\"P-value: {p_value: .3f}\")"
   ]
  },
  {
   "cell_type": "markdown",
   "id": "041f494f",
   "metadata": {},
   "source": [
    "## 3.) Conclusion Analysis\n",
    "\n",
    "The P-value is less then 5% or 0.05. Reject the null hypothesis and conclude that the two diets have different mean weight losses"
   ]
  },
  {
   "cell_type": "markdown",
   "id": "f432e18e",
   "metadata": {},
   "source": [
    "## ANOVA\n",
    "\n",
    "**ANOVA** (*Analysis of Variance*) is a statistical technique used to compare the measures of two or more groups. The idea behind ANOVA is to decompose the total variability in the data into two components: between-group variability and within-group variability:\n",
    "\n",
    "- **Between-group variability**: This variability refers to the differences between the group means. If this variability is considerably larger than the within-group variability, it could be an indication that at least one of the group means is different.\n",
    "- **Within-group variability**: This variability refers to the dispersion of the data within each group. If all groups have similar variability, then any noticeable difference in group means could be considered significant.\n",
    "\n",
    "Hypotheses in ANOVA typically include:\n",
    "\n",
    "- **Null hypothesis** ($H₀$): The means of all groups are equal.\n",
    "- **Alternative hypothesis** ($H₁$): At least one of the group means is different.\n",
    "\n",
    "If the ANOVA test result is significant (e.g., a p-value less than a threshold such as 0.05), this suggests that at least one group mean is different."
   ]
  },
  {
   "cell_type": "markdown",
   "id": "fc5f3721",
   "metadata": {},
   "source": [
    "## Exercise 2\n",
    "\n",
    "A farmer decides to test three different types of fertilizers to determine if one is superior in terms of corn production. The farmer plants corn on 15 identical plots and uses all three fertilizers (5 plots for each type). At the end of the season, he measures the corn yield (in kg) of each plot, with the following result:\n",
    "\n",
    "| Fertilizer 1 | Fertilizer 2 | Fertilizer 3 |\n",
    "|:-------------|:-------------|:-------------|\n",
    "| 20 | 22 | 24 |\n",
    "| 21 | 21 | 23 |\n",
    "| 20 | 23 | 22 |\n",
    "| 19 | 22 | 23 |\n",
    "| 20 | 21 | 24 |\n",
    "\n",
    "With this data, he seeks to answer the following question: Is there a significant difference in average corn yield between the three types of fertilizers?\n",
    "\n",
    "To help you, follow the points below:\n",
    "\n",
    "- State the hypothesis: null and alternative hypothesis.\n",
    "- Perform the ANOVA test.\n",
    "- Analyze the conclusions.\n",
    "- If one fertilizer is better than another, how can we know it?"
   ]
  },
  {
   "cell_type": "markdown",
   "id": "7f517e96",
   "metadata": {},
   "source": [
    "## 1.) State the hypothesis\n",
    "\n",
    "-  **Null hypothesis** ($H₀$): There is no difference in the average corn yield bewtween the three fertilizers\n",
    "\n",
    "- **Alternative hypothesis** ($H₁$): At least one fertizer differes in corn yeild"
   ]
  },
  {
   "cell_type": "markdown",
   "id": "7831dc27",
   "metadata": {},
   "source": [
    "## 2.) ANOVA T - Test"
   ]
  },
  {
   "cell_type": "code",
   "execution_count": 2,
   "id": "eecad0ca",
   "metadata": {},
   "outputs": [
    {
     "name": "stdout",
     "output_type": "stream",
     "text": [
      "F-value:  20.31579\n",
      "P-value:  0.00014\n"
     ]
    }
   ],
   "source": [
    "fertilizer_1 = [20, 21, 20, 19, 20]\n",
    "\n",
    "fertilizer_2 = [22, 21, 23, 22, 21]\n",
    "\n",
    "fertilizer_3 = [24, 23, 22, 23, 24]\n",
    "\n",
    "# ANOVA test\n",
    "f_value, p_value = stats.f_oneway(fertilizer_1, fertilizer_2, fertilizer_3)\n",
    "\n",
    "print(f\"F-value: {f_value: .5f}\")\n",
    "print(f\"P-value: {p_value: .5f}\")"
   ]
  },
  {
   "cell_type": "markdown",
   "id": "0c983294",
   "metadata": {},
   "source": [
    "## 3.) Conlusion\n",
    "\n",
    "The P-value for the difference in average corn yield among the three fertilizers is less than 5% or 0.05. Reject the null hypothesis and conclude that there is a difference between the three fertilizers"
   ]
  },
  {
   "cell_type": "markdown",
   "id": "bf6a4b26",
   "metadata": {},
   "source": [
    "## 4.) Fertilizer comparison"
   ]
  },
  {
   "cell_type": "code",
   "execution_count": 4,
   "id": "829480b2",
   "metadata": {},
   "outputs": [
    {
     "data": {
      "image/png": "[encoded data removed]",
      "text/plain": [
       "<Figure size 640x480 with 1 Axes>"
      ]
     },
     "metadata": {},
     "output_type": "display_data"
    }
   ],
   "source": [
    "import matplotlib.pyplot as plt\n",
    "\n",
    "# Fertilizer Yield Data\n",
    "f1 = [20, 21, 20, 19, 20]\n",
    "f2 = [22, 21, 23, 22, 21]\n",
    "f3 = [24, 23, 22, 23, 24]\n",
    "\n",
    "data = [f1, f2, f3]\n",
    "\n",
    "plt.boxplot(data, tick_labels=[\"Fertilizer 1\", \"Fertilizer 2\", \"Fertilizer 3\"])\n",
    "plt.title(\"Corn yield by Fertilizer\")\n",
    "plt.ylabel(\"Yield (kg)\")\n",
    "plt.show()\n"
   ]
  },
  {
   "cell_type": "markdown",
   "id": "5f7cdbfb",
   "metadata": {},
   "source": [
    "## Results\n",
    "\n",
    "Fertilizer 3 yielded a higer production of corn, followed by fertilizer 2, and fertilizer 1 yielded the least amount of corn"
   ]
  }
 ],
 "metadata": {
  "kernelspec": {
   "display_name": "Python 3",
   "language": "python",
   "name": "python3"
  },
  "language_info": {
   "codemirror_mode": {
    "name": "ipython",
    "version": 3
   },
   "file_extension": ".py",
   "mimetype": "text/x-python",
   "name": "python",
   "nbconvert_exporter": "python",
   "pygments_lexer": "ipython3",
   "version": "3.11.4"
  }
 },
 "nbformat": 4,
 "nbformat_minor": 5
}
